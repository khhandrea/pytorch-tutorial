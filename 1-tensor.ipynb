{
 "cells": [
  {
   "attachments": {},
   "cell_type": "markdown",
   "metadata": {},
   "source": [
    "## 1. 텐서 (Tensor)"
   ]
  },
  {
   "attachments": {},
   "cell_type": "markdown",
   "metadata": {},
   "source": [
    "Tensor 자료구조는 numpy의 ndarray와 유사한 개념이다.\n",
    "\n",
    "GPU 혹은 다른 하드웨어 가속기에서 실행할 수 있는 점이 특징이다.\n",
    "\n",
    "PyTorch에서는 텐서를 사용하여 모델의 input, output, 모델의 parameter들을 encode한다."
   ]
  },
  {
   "cell_type": "code",
   "execution_count": 66,
   "metadata": {},
   "outputs": [],
   "source": [
    "import torch\n",
    "import numpy as np"
   ]
  },
  {
   "attachments": {},
   "cell_type": "markdown",
   "metadata": {},
   "source": [
    "### 1. Initializing a Tensor"
   ]
  },
  {
   "attachments": {},
   "cell_type": "markdown",
   "metadata": {},
   "source": [
    "**Directly from data**"
   ]
  },
  {
   "cell_type": "code",
   "execution_count": 67,
   "metadata": {},
   "outputs": [
    {
     "name": "stdout",
     "output_type": "stream",
     "text": [
      "tensor([[1, 2],\n",
      "        [3, 4]])\n"
     ]
    }
   ],
   "source": [
    "data = [[1, 2], [3, 4]]\n",
    "x_data = torch.tensor(data)\n",
    "print(x_data)"
   ]
  },
  {
   "attachments": {},
   "cell_type": "markdown",
   "metadata": {},
   "source": [
    "**From a NumPy array**"
   ]
  },
  {
   "cell_type": "code",
   "execution_count": 68,
   "metadata": {},
   "outputs": [
    {
     "name": "stdout",
     "output_type": "stream",
     "text": [
      "tensor([[1, 2],\n",
      "        [3, 4]])\n"
     ]
    }
   ],
   "source": [
    "np_array = np.array(data)\n",
    "x_np = torch.from_numpy(np_array)\n",
    "print(x_np)"
   ]
  },
  {
   "attachments": {},
   "cell_type": "markdown",
   "metadata": {},
   "source": [
    "**From another tensor**\n",
    "\n",
    "The shape and the datatype(dtype) will be followed."
   ]
  },
  {
   "cell_type": "code",
   "execution_count": 69,
   "metadata": {},
   "outputs": [
    {
     "name": "stdout",
     "output_type": "stream",
     "text": [
      "Ones Tensor: \n",
      " tensor([[1, 1],\n",
      "        [1, 1]]) \n",
      "\n",
      "Random Tensor: \n",
      " tensor([[0.1169, 0.2644],\n",
      "        [0.7014, 0.3806]]) \n",
      "\n"
     ]
    }
   ],
   "source": [
    "x_ones = torch.ones_like(x_data)\n",
    "print(f'Ones Tensor: \\n {x_ones} \\n')\n",
    "\n",
    "# overrides the datatype of x_data\n",
    "x_random = torch.rand_like(x_data, dtype=torch.float)\n",
    "print(f'Random Tensor: \\n {x_random} \\n')"
   ]
  },
  {
   "attachments": {},
   "cell_type": "markdown",
   "metadata": {},
   "source": [
    "**Created with a function**"
   ]
  },
  {
   "cell_type": "code",
   "execution_count": 70,
   "metadata": {},
   "outputs": [
    {
     "name": "stdout",
     "output_type": "stream",
     "text": [
      "Rand tensor: \n",
      " tensor([[0.6881, 0.9363, 0.5332],\n",
      "        [0.1606, 0.5338, 0.8581]]) \n",
      "\n",
      "Ones tensor: \n",
      " tensor([[1., 1., 1.],\n",
      "        [1., 1., 1.]]) \n",
      "\n",
      "Zeros tensor: \n",
      " tensor([[0., 0., 0.],\n",
      "        [0., 0., 0.]]) \n",
      "\n"
     ]
    }
   ],
   "source": [
    "shape = (2, 3)\n",
    "rand_tensor = torch.rand(shape)\n",
    "print(f'Rand tensor: \\n {rand_tensor} \\n')\n",
    "\n",
    "ones_tensor = torch.ones(shape)\n",
    "print(f'Ones tensor: \\n {ones_tensor} \\n')\n",
    "\n",
    "zeros_tensor = torch.zeros(shape)\n",
    "print(f'Zeros tensor: \\n {zeros_tensor} \\n')"
   ]
  },
  {
   "attachments": {},
   "cell_type": "markdown",
   "metadata": {},
   "source": [
    "### 2. Attributes of a Tensor"
   ]
  },
  {
   "cell_type": "code",
   "execution_count": 71,
   "metadata": {},
   "outputs": [
    {
     "name": "stdout",
     "output_type": "stream",
     "text": [
      "Shape of tensor: torch.Size([3, 4])\n",
      "Datatype of tensor: torch.float32\n",
      "Device tensor is stored on: cpu\n"
     ]
    }
   ],
   "source": [
    "tensor = torch.rand(3, 4)\n",
    "\n",
    "print(f'Shape of tensor: {tensor.shape}')\n",
    "print(f'Datatype of tensor: {tensor.dtype}')\n",
    "print(f'Device tensor is stored on: {tensor.device}')"
   ]
  },
  {
   "attachments": {},
   "cell_type": "markdown",
   "metadata": {},
   "source": [
    "### 3. Operations on Tensors"
   ]
  },
  {
   "attachments": {},
   "cell_type": "markdown",
   "metadata": {},
   "source": [
    "**Move tensor to GPU if available**"
   ]
  },
  {
   "cell_type": "code",
   "execution_count": 72,
   "metadata": {},
   "outputs": [
    {
     "name": "stdout",
     "output_type": "stream",
     "text": [
      "Where the tensor1 is: cpu\n",
      "Where the tensor2 is: mps:0\n"
     ]
    }
   ],
   "source": [
    "tensor1 = torch.rand(3, 4)\n",
    "tensor2 = torch.rand(3, 4)\n",
    "\n",
    "# Nvidia GPU\n",
    "if torch.cuda.is_available():\n",
    "    tensor2 = tensor.to('cuda')\n",
    "\n",
    "\n",
    "# MPS GPU e.g. MacOS M1\n",
    "if torch.backends.mps.is_available():\n",
    "    tensor2 = tensor.to('mps:0')\n",
    "\n",
    "print(f'Where the tensor1 is: {tensor1.device}')\n",
    "print(f'Where the tensor2 is: {tensor2.device}')"
   ]
  },
  {
   "attachments": {},
   "cell_type": "markdown",
   "metadata": {},
   "source": [
    "**Numpy-like indexing and slicing**"
   ]
  },
  {
   "cell_type": "code",
   "execution_count": 73,
   "metadata": {},
   "outputs": [
    {
     "name": "stdout",
     "output_type": "stream",
     "text": [
      "First row: tensor([1., 1., 1., 1.])\n",
      "First column: tensor([1., 1., 1., 1.])\n",
      "Last column: tensor([1., 1., 1., 1.])\n",
      "\n",
      "Changed tensor: \n",
      " tensor([[1., 0., 1., 1.],\n",
      "        [1., 0., 1., 1.],\n",
      "        [1., 0., 1., 1.],\n",
      "        [1., 0., 1., 1.]])\n"
     ]
    }
   ],
   "source": [
    "tensor = torch.ones(4, 4)\n",
    "print(f'First row: {tensor[0]}')\n",
    "print(f'First column: {tensor[:, 0]}')\n",
    "print(f'Last column: {tensor[..., -1]}')\n",
    "\n",
    "tensor[:, 1] = 0\n",
    "print(f'\\nChanged tensor: \\n {tensor}')"
   ]
  },
  {
   "attachments": {},
   "cell_type": "markdown",
   "metadata": {},
   "source": [
    "**Concatenate tensors**"
   ]
  },
  {
   "cell_type": "code",
   "execution_count": 74,
   "metadata": {},
   "outputs": [
    {
     "name": "stdout",
     "output_type": "stream",
     "text": [
      "Tensor cat dim=0: \n",
      " tensor([[0., 0., 0., 0.],\n",
      "        [0., 0., 0., 0.],\n",
      "        [0., 0., 0., 0.],\n",
      "        [1., 1., 1., 1.],\n",
      "        [1., 1., 1., 1.],\n",
      "        [1., 1., 1., 1.]]) \n",
      "\n",
      "Tensor cat dim=1: \n",
      " tensor([[0., 0., 0., 0., 1., 1., 1., 1.],\n",
      "        [0., 0., 0., 0., 1., 1., 1., 1.],\n",
      "        [0., 0., 0., 0., 1., 1., 1., 1.]]) \n",
      "\n"
     ]
    }
   ],
   "source": [
    "zeros_tensor = torch.zeros(3, 4)\n",
    "ones_tensor = torch.ones(3, 4)\n",
    "\n",
    "# dim default = 0\n",
    "catted_tensor_0 = torch.cat([zeros_tensor, ones_tensor])\n",
    "catted_tensor_1 = torch.cat([zeros_tensor, ones_tensor], dim=1)\n",
    "\n",
    "print(f'Tensor cat dim=0: \\n {catted_tensor_0} \\n')\n",
    "print(f'Tensor cat dim=1: \\n {catted_tensor_1} \\n')"
   ]
  },
  {
   "cell_type": "code",
   "execution_count": 75,
   "metadata": {},
   "outputs": [
    {
     "name": "stdout",
     "output_type": "stream",
     "text": [
      "Tensor satck dim=0: \n",
      " tensor([[[0., 0., 0., 0.],\n",
      "         [0., 0., 0., 0.],\n",
      "         [0., 0., 0., 0.]],\n",
      "\n",
      "        [[1., 1., 1., 1.],\n",
      "         [1., 1., 1., 1.],\n",
      "         [1., 1., 1., 1.]]]) \n",
      "\n",
      "Tensor satck dim=1: \n",
      " tensor([[[0., 0., 0., 0.],\n",
      "         [1., 1., 1., 1.]],\n",
      "\n",
      "        [[0., 0., 0., 0.],\n",
      "         [1., 1., 1., 1.]],\n",
      "\n",
      "        [[0., 0., 0., 0.],\n",
      "         [1., 1., 1., 1.]]]) \n",
      "\n"
     ]
    }
   ],
   "source": [
    "zeros_tensor = torch.zeros(3, 4)\n",
    "ones_tensor = torch.ones(3, 4)\n",
    "\n",
    "# dim default = 0\n",
    "stacked_tensor_0 = torch.stack([zeros_tensor, ones_tensor])\n",
    "stacked_tensor_1 = torch.stack([zeros_tensor, ones_tensor], dim=1)\n",
    "\n",
    "print(f'Tensor satck dim=0: \\n {stacked_tensor_0} \\n')\n",
    "print(f'Tensor satck dim=1: \\n {stacked_tensor_1} \\n')"
   ]
  },
  {
   "attachments": {},
   "cell_type": "markdown",
   "metadata": {},
   "source": [
    "**Arithmetic operations**"
   ]
  },
  {
   "cell_type": "code",
   "execution_count": 76,
   "metadata": {},
   "outputs": [
    {
     "name": "stdout",
     "output_type": "stream",
     "text": [
      "y1 == y2: True\n",
      "y2 == y3: True\n"
     ]
    }
   ],
   "source": [
    "t1 = torch.rand(3, 4)\n",
    "t2 = torch.rand(3, 4)\n",
    "\n",
    "# Multiplication, transpose\n",
    "y1 = t1 @ t2.T\n",
    "y2 = t1.matmul(t2.T)\n",
    "\n",
    "y3 = torch.zeros(3, 3)\n",
    "torch.matmul(t1, t2.T, out=y3)\n",
    "\n",
    "print(f'y1 == y2: {torch.equal(y1, y2)}')\n",
    "print(f'y2 == y3: {torch.equal(y2, y3)}')"
   ]
  },
  {
   "attachments": {},
   "cell_type": "markdown",
   "metadata": {},
   "source": [
    "**Single-element tensors**"
   ]
  },
  {
   "cell_type": "code",
   "execution_count": 77,
   "metadata": {},
   "outputs": [
    {
     "name": "stdout",
     "output_type": "stream",
     "text": [
      "agg: 12.0\n",
      "Type of agg: <class 'torch.Tensor'>\n",
      "\n",
      "agg_item: 12.0\n",
      "Type of agg_item: <class 'float'>\n"
     ]
    }
   ],
   "source": [
    "ones_tensor = torch.ones(4, 3)\n",
    "agg = ones_tensor.sum()\n",
    "\n",
    "print(f'agg: {agg}')\n",
    "print(f'Type of agg: {type(agg)}')\n",
    "print()\n",
    "print(f'agg_item: {agg.item()}')\n",
    "print(f'Type of agg_item: {type(agg.item())}')"
   ]
  },
  {
   "attachments": {},
   "cell_type": "markdown",
   "metadata": {},
   "source": [
    "**In-place operations**\n",
    "\n",
    "Operations that store the result into the operand.\n",
    "\n",
    "They have '_' suffix"
   ]
  },
  {
   "cell_type": "code",
   "execution_count": 78,
   "metadata": {},
   "outputs": [
    {
     "name": "stdout",
     "output_type": "stream",
     "text": [
      "ones_tensor after add(): \n",
      " tensor([[1., 1., 1.],\n",
      "        [1., 1., 1.],\n",
      "        [1., 1., 1.],\n",
      "        [1., 1., 1.]]) \n",
      "\n",
      "Result of add(): \n",
      " tensor([[4., 4., 4.],\n",
      "        [4., 4., 4.],\n",
      "        [4., 4., 4.],\n",
      "        [4., 4., 4.]]) \n",
      "\n",
      "ones_tensor after add_(): \n",
      " tensor([[4., 4., 4.],\n",
      "        [4., 4., 4.],\n",
      "        [4., 4., 4.],\n",
      "        [4., 4., 4.]])\n"
     ]
    }
   ],
   "source": [
    "ones_tensor = torch.ones(4, 3)\n",
    "\n",
    "result = ones_tensor.add(3)\n",
    "print(f'ones_tensor after add(): \\n {ones_tensor} \\n')\n",
    "print(f'Result of add(): \\n {result} \\n')\n",
    "\n",
    "ones_tensor.add_(3)\n",
    "print(f'ones_tensor after add_(): \\n {ones_tensor}')"
   ]
  },
  {
   "attachments": {},
   "cell_type": "markdown",
   "metadata": {},
   "source": [
    "## 4. Bridge with NumPy"
   ]
  },
  {
   "attachments": {},
   "cell_type": "markdown",
   "metadata": {},
   "source": [
    "**Change between Tensor and NumPy array**"
   ]
  },
  {
   "cell_type": "code",
   "execution_count": 79,
   "metadata": {},
   "outputs": [
    {
     "name": "stdout",
     "output_type": "stream",
     "text": [
      "tensor: tensor([1., 1., 1., 1., 1.])\n",
      "n: [1. 1. 1. 1. 1.]\n",
      "t: tensor([1., 1., 1., 1., 1.])\n"
     ]
    }
   ],
   "source": [
    "tensor = torch.ones(5)\n",
    "print(f'tensor: {tensor}')\n",
    "\n",
    "n = tensor.numpy()\n",
    "print(f'n: {n}')\n",
    "\n",
    "t = torch.from_numpy(n)\n",
    "print(f't: {t}')"
   ]
  },
  {
   "attachments": {},
   "cell_type": "markdown",
   "metadata": {},
   "source": [
    "**Reflection between Tensor and NumPy**\n",
    "\n",
    "Tensors on the CPU and NumPy arrays can share their underlying memory locations, and changing one will change the other."
   ]
  },
  {
   "cell_type": "code",
   "execution_count": 80,
   "metadata": {},
   "outputs": [
    {
     "name": "stdout",
     "output_type": "stream",
     "text": [
      "n: [6. 6. 6. 6. 6.]\n"
     ]
    }
   ],
   "source": [
    "t = torch.ones(5)\n",
    "n = t.numpy()\n",
    "\n",
    "t.add_(5)\n",
    "\n",
    "print(f'n: {n}')"
   ]
  },
  {
   "cell_type": "code",
   "execution_count": 81,
   "metadata": {},
   "outputs": [
    {
     "name": "stdout",
     "output_type": "stream",
     "text": [
      "t: tensor([6., 6., 6., 6., 6.], dtype=torch.float64)\n"
     ]
    }
   ],
   "source": [
    "n = np.ones(5)\n",
    "t = torch.from_numpy(n)\n",
    "\n",
    "n += 5\n",
    "\n",
    "print(f't: {t}')"
   ]
  },
  {
   "cell_type": "code",
   "execution_count": 82,
   "metadata": {},
   "outputs": [
    {
     "name": "stdout",
     "output_type": "stream",
     "text": [
      "n: [6 6 6 6 6]\n"
     ]
    }
   ],
   "source": [
    "# ???\n",
    "n = np.ones(5, dtype=int)\n",
    "t = torch.from_numpy(n)\n",
    "\n",
    "if torch.backends.mps.is_available():\n",
    "    t.to('mps:0')\n",
    "\n",
    "t.add_(5)\n",
    "\n",
    "print(f'n: {n}')"
   ]
  }
 ],
 "metadata": {
  "kernelspec": {
   "display_name": "pytorch-tutorial",
   "language": "python",
   "name": "pytorch-tutorial"
  },
  "language_info": {
   "codemirror_mode": {
    "name": "ipython",
    "version": 3
   },
   "file_extension": ".py",
   "mimetype": "text/x-python",
   "name": "python",
   "nbconvert_exporter": "python",
   "pygments_lexer": "ipython3",
   "version": "3.9.16"
  },
  "orig_nbformat": 4
 },
 "nbformat": 4,
 "nbformat_minor": 2
}
